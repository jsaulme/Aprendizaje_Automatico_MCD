{
  "nbformat": 4,
  "nbformat_minor": 0,
  "metadata": {
    "colab": {
      "provenance": [],
      "authorship_tag": "ABX9TyP7tEazu5qiSPjQaSQxSnHE",
      "include_colab_link": true
    },
    "kernelspec": {
      "name": "python3",
      "display_name": "Python 3"
    },
    "language_info": {
      "name": "python"
    }
  },
  "cells": [
    {
      "cell_type": "markdown",
      "metadata": {
        "id": "view-in-github",
        "colab_type": "text"
      },
      "source": [
        "<a href=\"https://colab.research.google.com/github/jsaulme/Aprendizaje_Automatico_MCD/blob/main/tareas/03_sel_caract_updated.ipynb\" target=\"_parent\"><img src=\"https://colab.research.google.com/assets/colab-badge.svg\" alt=\"Open In Colab\"/></a>"
      ]
    },
    {
      "cell_type": "code",
      "source": [
        "import pandas as pd\n",
        "# import numpy as np\n",
        "# import matplotlib.pyplot as plt\n",
        "# import sklearn\n",
        "# from sklearn.feature_selection import SelectKBest\n",
        "# from sklearn.feature_selection import chi2\n",
        "# from sklearn.feature_selection import f_regression\n",
        "# from sklearn.feature_selection import r_regression\n",
        "# from sklearn.feature_selection import mutual_info_regression\n",
        "# from sklearn.decomposition import PCA\n",
        "# from sklearn.preprocessing import StandardScaler\n",
        "# from mlxtend.feature_selection import SequentialFeatureSelector as SFS\n",
        "# from mlxtend.feature_selection import ExhaustiveFeatureSelector as EFS\n",
        "# from sklearn.linear_model import LinearRegression\n",
        "# from sklearn.feature_selection import SelectKBest, chi2, RFE\n",
        "# from sklearn.linear_model import LogisticRegression"
      ],
      "metadata": {
        "id": "bcDPicFJAroG"
      },
      "execution_count": null,
      "outputs": []
    },
    {
      "cell_type": "code",
      "source": [
        "# Crgar dataset desde mi google drive\n",
        "url = \"https://raw.githubusercontent.com/jsaulme/datasets/main/Global_superstore2018_procesado.csv\"\n",
        "data = pd.read_csv(url)\n",
        "data.head(3)"
      ],
      "metadata": {
        "colab": {
          "base_uri": "https://localhost:8080/",
          "height": 314
        },
        "id": "4KQVNJStAsvE",
        "outputId": "691e8d96-df77-4c79-ba15-ddf8b66afed6"
      },
      "execution_count": null,
      "outputs": [
        {
          "output_type": "execute_result",
          "data": {
            "text/plain": [
              "                  Order ID  Order Date   Ship Date       Ship Mode  \\\n",
              "0  MX-2017-SC2057582-43010  2017-10-02  2017-10-06  Standard Class   \n",
              "1  MX-2015-KW1657028-42292  2015-10-15  2015-10-20  Standard Class   \n",
              "2  MX-2015-KW1657028-42292  2015-10-15  2015-10-20  Standard Class   \n",
              "\n",
              "  Customer ID   Customer Name   Segment  Postal Code           City  \\\n",
              "0  SC-2057582    Sonia Cooley  Consumer            0    Mexico City   \n",
              "1  KW-1657028  Kelly Williams  Consumer            0  Dos Quebradas   \n",
              "2  KW-1657028  Kelly Williams  Consumer            0  Dos Quebradas   \n",
              "\n",
              "              State  ... Profit Shipping Cost Order Priority Order Year  \\\n",
              "0  Distrito Federal  ...   4.56         2.033         Medium       2017   \n",
              "1         Risaralda  ...  90.72        13.449         Medium       2015   \n",
              "2         Risaralda  ...  54.08         9.627         Medium       2015   \n",
              "\n",
              "  Order Month Order Day Ship Day  Ship Month  Ship Year  Delivery Time  \n",
              "0          10         2        6          10       2017              4  \n",
              "1          10        15       20          10       2015              5  \n",
              "2          10        15       20          10       2015              5  \n",
              "\n",
              "[3 rows x 30 columns]"
            ],
            "text/html": [
              "\n",
              "  <div id=\"df-d65c29ae-5363-4ac9-a379-95d80089ea40\" class=\"colab-df-container\">\n",
              "    <div>\n",
              "<style scoped>\n",
              "    .dataframe tbody tr th:only-of-type {\n",
              "        vertical-align: middle;\n",
              "    }\n",
              "\n",
              "    .dataframe tbody tr th {\n",
              "        vertical-align: top;\n",
              "    }\n",
              "\n",
              "    .dataframe thead th {\n",
              "        text-align: right;\n",
              "    }\n",
              "</style>\n",
              "<table border=\"1\" class=\"dataframe\">\n",
              "  <thead>\n",
              "    <tr style=\"text-align: right;\">\n",
              "      <th></th>\n",
              "      <th>Order ID</th>\n",
              "      <th>Order Date</th>\n",
              "      <th>Ship Date</th>\n",
              "      <th>Ship Mode</th>\n",
              "      <th>Customer ID</th>\n",
              "      <th>Customer Name</th>\n",
              "      <th>Segment</th>\n",
              "      <th>Postal Code</th>\n",
              "      <th>City</th>\n",
              "      <th>State</th>\n",
              "      <th>...</th>\n",
              "      <th>Profit</th>\n",
              "      <th>Shipping Cost</th>\n",
              "      <th>Order Priority</th>\n",
              "      <th>Order Year</th>\n",
              "      <th>Order Month</th>\n",
              "      <th>Order Day</th>\n",
              "      <th>Ship Day</th>\n",
              "      <th>Ship Month</th>\n",
              "      <th>Ship Year</th>\n",
              "      <th>Delivery Time</th>\n",
              "    </tr>\n",
              "  </thead>\n",
              "  <tbody>\n",
              "    <tr>\n",
              "      <th>0</th>\n",
              "      <td>MX-2017-SC2057582-43010</td>\n",
              "      <td>2017-10-02</td>\n",
              "      <td>2017-10-06</td>\n",
              "      <td>Standard Class</td>\n",
              "      <td>SC-2057582</td>\n",
              "      <td>Sonia Cooley</td>\n",
              "      <td>Consumer</td>\n",
              "      <td>0</td>\n",
              "      <td>Mexico City</td>\n",
              "      <td>Distrito Federal</td>\n",
              "      <td>...</td>\n",
              "      <td>4.56</td>\n",
              "      <td>2.033</td>\n",
              "      <td>Medium</td>\n",
              "      <td>2017</td>\n",
              "      <td>10</td>\n",
              "      <td>2</td>\n",
              "      <td>6</td>\n",
              "      <td>10</td>\n",
              "      <td>2017</td>\n",
              "      <td>4</td>\n",
              "    </tr>\n",
              "    <tr>\n",
              "      <th>1</th>\n",
              "      <td>MX-2015-KW1657028-42292</td>\n",
              "      <td>2015-10-15</td>\n",
              "      <td>2015-10-20</td>\n",
              "      <td>Standard Class</td>\n",
              "      <td>KW-1657028</td>\n",
              "      <td>Kelly Williams</td>\n",
              "      <td>Consumer</td>\n",
              "      <td>0</td>\n",
              "      <td>Dos Quebradas</td>\n",
              "      <td>Risaralda</td>\n",
              "      <td>...</td>\n",
              "      <td>90.72</td>\n",
              "      <td>13.449</td>\n",
              "      <td>Medium</td>\n",
              "      <td>2015</td>\n",
              "      <td>10</td>\n",
              "      <td>15</td>\n",
              "      <td>20</td>\n",
              "      <td>10</td>\n",
              "      <td>2015</td>\n",
              "      <td>5</td>\n",
              "    </tr>\n",
              "    <tr>\n",
              "      <th>2</th>\n",
              "      <td>MX-2015-KW1657028-42292</td>\n",
              "      <td>2015-10-15</td>\n",
              "      <td>2015-10-20</td>\n",
              "      <td>Standard Class</td>\n",
              "      <td>KW-1657028</td>\n",
              "      <td>Kelly Williams</td>\n",
              "      <td>Consumer</td>\n",
              "      <td>0</td>\n",
              "      <td>Dos Quebradas</td>\n",
              "      <td>Risaralda</td>\n",
              "      <td>...</td>\n",
              "      <td>54.08</td>\n",
              "      <td>9.627</td>\n",
              "      <td>Medium</td>\n",
              "      <td>2015</td>\n",
              "      <td>10</td>\n",
              "      <td>15</td>\n",
              "      <td>20</td>\n",
              "      <td>10</td>\n",
              "      <td>2015</td>\n",
              "      <td>5</td>\n",
              "    </tr>\n",
              "  </tbody>\n",
              "</table>\n",
              "<p>3 rows × 30 columns</p>\n",
              "</div>\n",
              "    <div class=\"colab-df-buttons\">\n",
              "\n",
              "  <div class=\"colab-df-container\">\n",
              "    <button class=\"colab-df-convert\" onclick=\"convertToInteractive('df-d65c29ae-5363-4ac9-a379-95d80089ea40')\"\n",
              "            title=\"Convert this dataframe to an interactive table.\"\n",
              "            style=\"display:none;\">\n",
              "\n",
              "  <svg xmlns=\"http://www.w3.org/2000/svg\" height=\"24px\" viewBox=\"0 -960 960 960\">\n",
              "    <path d=\"M120-120v-720h720v720H120Zm60-500h600v-160H180v160Zm220 220h160v-160H400v160Zm0 220h160v-160H400v160ZM180-400h160v-160H180v160Zm440 0h160v-160H620v160ZM180-180h160v-160H180v160Zm440 0h160v-160H620v160Z\"/>\n",
              "  </svg>\n",
              "    </button>\n",
              "\n",
              "  <style>\n",
              "    .colab-df-container {\n",
              "      display:flex;\n",
              "      gap: 12px;\n",
              "    }\n",
              "\n",
              "    .colab-df-convert {\n",
              "      background-color: #E8F0FE;\n",
              "      border: none;\n",
              "      border-radius: 50%;\n",
              "      cursor: pointer;\n",
              "      display: none;\n",
              "      fill: #1967D2;\n",
              "      height: 32px;\n",
              "      padding: 0 0 0 0;\n",
              "      width: 32px;\n",
              "    }\n",
              "\n",
              "    .colab-df-convert:hover {\n",
              "      background-color: #E2EBFA;\n",
              "      box-shadow: 0px 1px 2px rgba(60, 64, 67, 0.3), 0px 1px 3px 1px rgba(60, 64, 67, 0.15);\n",
              "      fill: #174EA6;\n",
              "    }\n",
              "\n",
              "    .colab-df-buttons div {\n",
              "      margin-bottom: 4px;\n",
              "    }\n",
              "\n",
              "    [theme=dark] .colab-df-convert {\n",
              "      background-color: #3B4455;\n",
              "      fill: #D2E3FC;\n",
              "    }\n",
              "\n",
              "    [theme=dark] .colab-df-convert:hover {\n",
              "      background-color: #434B5C;\n",
              "      box-shadow: 0px 1px 3px 1px rgba(0, 0, 0, 0.15);\n",
              "      filter: drop-shadow(0px 1px 2px rgba(0, 0, 0, 0.3));\n",
              "      fill: #FFFFFF;\n",
              "    }\n",
              "  </style>\n",
              "\n",
              "    <script>\n",
              "      const buttonEl =\n",
              "        document.querySelector('#df-d65c29ae-5363-4ac9-a379-95d80089ea40 button.colab-df-convert');\n",
              "      buttonEl.style.display =\n",
              "        google.colab.kernel.accessAllowed ? 'block' : 'none';\n",
              "\n",
              "      async function convertToInteractive(key) {\n",
              "        const element = document.querySelector('#df-d65c29ae-5363-4ac9-a379-95d80089ea40');\n",
              "        const dataTable =\n",
              "          await google.colab.kernel.invokeFunction('convertToInteractive',\n",
              "                                                    [key], {});\n",
              "        if (!dataTable) return;\n",
              "\n",
              "        const docLinkHtml = 'Like what you see? Visit the ' +\n",
              "          '<a target=\"_blank\" href=https://colab.research.google.com/notebooks/data_table.ipynb>data table notebook</a>'\n",
              "          + ' to learn more about interactive tables.';\n",
              "        element.innerHTML = '';\n",
              "        dataTable['output_type'] = 'display_data';\n",
              "        await google.colab.output.renderOutput(dataTable, element);\n",
              "        const docLink = document.createElement('div');\n",
              "        docLink.innerHTML = docLinkHtml;\n",
              "        element.appendChild(docLink);\n",
              "      }\n",
              "    </script>\n",
              "  </div>\n",
              "\n",
              "\n",
              "<div id=\"df-33ad1e08-eeed-4ee2-a3fc-b9071ab2845e\">\n",
              "  <button class=\"colab-df-quickchart\" onclick=\"quickchart('df-33ad1e08-eeed-4ee2-a3fc-b9071ab2845e')\"\n",
              "            title=\"Suggest charts\"\n",
              "            style=\"display:none;\">\n",
              "\n",
              "<svg xmlns=\"http://www.w3.org/2000/svg\" height=\"24px\"viewBox=\"0 0 24 24\"\n",
              "     width=\"24px\">\n",
              "    <g>\n",
              "        <path d=\"M19 3H5c-1.1 0-2 .9-2 2v14c0 1.1.9 2 2 2h14c1.1 0 2-.9 2-2V5c0-1.1-.9-2-2-2zM9 17H7v-7h2v7zm4 0h-2V7h2v10zm4 0h-2v-4h2v4z\"/>\n",
              "    </g>\n",
              "</svg>\n",
              "  </button>\n",
              "\n",
              "<style>\n",
              "  .colab-df-quickchart {\n",
              "      --bg-color: #E8F0FE;\n",
              "      --fill-color: #1967D2;\n",
              "      --hover-bg-color: #E2EBFA;\n",
              "      --hover-fill-color: #174EA6;\n",
              "      --disabled-fill-color: #AAA;\n",
              "      --disabled-bg-color: #DDD;\n",
              "  }\n",
              "\n",
              "  [theme=dark] .colab-df-quickchart {\n",
              "      --bg-color: #3B4455;\n",
              "      --fill-color: #D2E3FC;\n",
              "      --hover-bg-color: #434B5C;\n",
              "      --hover-fill-color: #FFFFFF;\n",
              "      --disabled-bg-color: #3B4455;\n",
              "      --disabled-fill-color: #666;\n",
              "  }\n",
              "\n",
              "  .colab-df-quickchart {\n",
              "    background-color: var(--bg-color);\n",
              "    border: none;\n",
              "    border-radius: 50%;\n",
              "    cursor: pointer;\n",
              "    display: none;\n",
              "    fill: var(--fill-color);\n",
              "    height: 32px;\n",
              "    padding: 0;\n",
              "    width: 32px;\n",
              "  }\n",
              "\n",
              "  .colab-df-quickchart:hover {\n",
              "    background-color: var(--hover-bg-color);\n",
              "    box-shadow: 0 1px 2px rgba(60, 64, 67, 0.3), 0 1px 3px 1px rgba(60, 64, 67, 0.15);\n",
              "    fill: var(--button-hover-fill-color);\n",
              "  }\n",
              "\n",
              "  .colab-df-quickchart-complete:disabled,\n",
              "  .colab-df-quickchart-complete:disabled:hover {\n",
              "    background-color: var(--disabled-bg-color);\n",
              "    fill: var(--disabled-fill-color);\n",
              "    box-shadow: none;\n",
              "  }\n",
              "\n",
              "  .colab-df-spinner {\n",
              "    border: 2px solid var(--fill-color);\n",
              "    border-color: transparent;\n",
              "    border-bottom-color: var(--fill-color);\n",
              "    animation:\n",
              "      spin 1s steps(1) infinite;\n",
              "  }\n",
              "\n",
              "  @keyframes spin {\n",
              "    0% {\n",
              "      border-color: transparent;\n",
              "      border-bottom-color: var(--fill-color);\n",
              "      border-left-color: var(--fill-color);\n",
              "    }\n",
              "    20% {\n",
              "      border-color: transparent;\n",
              "      border-left-color: var(--fill-color);\n",
              "      border-top-color: var(--fill-color);\n",
              "    }\n",
              "    30% {\n",
              "      border-color: transparent;\n",
              "      border-left-color: var(--fill-color);\n",
              "      border-top-color: var(--fill-color);\n",
              "      border-right-color: var(--fill-color);\n",
              "    }\n",
              "    40% {\n",
              "      border-color: transparent;\n",
              "      border-right-color: var(--fill-color);\n",
              "      border-top-color: var(--fill-color);\n",
              "    }\n",
              "    60% {\n",
              "      border-color: transparent;\n",
              "      border-right-color: var(--fill-color);\n",
              "    }\n",
              "    80% {\n",
              "      border-color: transparent;\n",
              "      border-right-color: var(--fill-color);\n",
              "      border-bottom-color: var(--fill-color);\n",
              "    }\n",
              "    90% {\n",
              "      border-color: transparent;\n",
              "      border-bottom-color: var(--fill-color);\n",
              "    }\n",
              "  }\n",
              "</style>\n",
              "\n",
              "  <script>\n",
              "    async function quickchart(key) {\n",
              "      const quickchartButtonEl =\n",
              "        document.querySelector('#' + key + ' button');\n",
              "      quickchartButtonEl.disabled = true;  // To prevent multiple clicks.\n",
              "      quickchartButtonEl.classList.add('colab-df-spinner');\n",
              "      try {\n",
              "        const charts = await google.colab.kernel.invokeFunction(\n",
              "            'suggestCharts', [key], {});\n",
              "      } catch (error) {\n",
              "        console.error('Error during call to suggestCharts:', error);\n",
              "      }\n",
              "      quickchartButtonEl.classList.remove('colab-df-spinner');\n",
              "      quickchartButtonEl.classList.add('colab-df-quickchart-complete');\n",
              "    }\n",
              "    (() => {\n",
              "      let quickchartButtonEl =\n",
              "        document.querySelector('#df-33ad1e08-eeed-4ee2-a3fc-b9071ab2845e button');\n",
              "      quickchartButtonEl.style.display =\n",
              "        google.colab.kernel.accessAllowed ? 'block' : 'none';\n",
              "    })();\n",
              "  </script>\n",
              "</div>\n",
              "\n",
              "    </div>\n",
              "  </div>\n"
            ],
            "application/vnd.google.colaboratory.intrinsic+json": {
              "type": "dataframe",
              "variable_name": "data"
            }
          },
          "metadata": {},
          "execution_count": 2
        }
      ]
    },
    {
      "cell_type": "code",
      "source": [
        "data.dtypes"
      ],
      "metadata": {
        "id": "X35bzzEJJfdB",
        "outputId": "0b515221-9cde-4082-d58e-a49778633e83",
        "colab": {
          "base_uri": "https://localhost:8080/"
        }
      },
      "execution_count": null,
      "outputs": [
        {
          "output_type": "execute_result",
          "data": {
            "text/plain": [
              "Order ID           object\n",
              "Order Date         object\n",
              "Ship Date          object\n",
              "Ship Mode          object\n",
              "Customer ID        object\n",
              "Customer Name      object\n",
              "Segment            object\n",
              "Postal Code         int64\n",
              "City               object\n",
              "State              object\n",
              "Country            object\n",
              "Region             object\n",
              "Market             object\n",
              "Product ID         object\n",
              "Product Name       object\n",
              "Sub-Category       object\n",
              "Category           object\n",
              "Sales             float64\n",
              "Quantity            int64\n",
              "Discount          float64\n",
              "Profit            float64\n",
              "Shipping Cost     float64\n",
              "Order Priority     object\n",
              "Order Year          int64\n",
              "Order Month         int64\n",
              "Order Day           int64\n",
              "Ship Day            int64\n",
              "Ship Month          int64\n",
              "Ship Year           int64\n",
              "Delivery Time       int64\n",
              "dtype: object"
            ]
          },
          "metadata": {},
          "execution_count": 3
        }
      ]
    },
    {
      "cell_type": "code",
      "source": [
        "# Aplica Anova de valor F para linealidad entre variables de entrada y salida\n",
        "\n",
        "# Seleccionar variables de entrada y salida\n",
        "X = data[data.select_dtypes(include=['int64', 'float64']).columns].drop('Sales', axis=1)\n",
        "y = data['Sales']\n",
        "\n",
        "# Aplicar ANOVA de valor F para linealidad\n",
        "selector = SelectKBest(f_regression, k=3)\n",
        "selector.fit(X, y)\n",
        "\n",
        "# Obtener las variables seleccionadas\n",
        "selected_features = X.columns[selector.get_support()]\n",
        "\n",
        "# Imprimir las variables seleccionadas\n",
        "print(f\"Variables seleccionadas: {selected_features}\")"
      ],
      "metadata": {
        "colab": {
          "base_uri": "https://localhost:8080/"
        },
        "id": "0A-FSouXFd7t",
        "outputId": "d0d66306-0ae4-46bf-9b3a-d4533eaf78a5"
      },
      "execution_count": null,
      "outputs": [
        {
          "output_type": "stream",
          "name": "stdout",
          "text": [
            "Variables seleccionadas: Index(['Quantity', 'Profit', 'Shipping Cost'], dtype='object')\n"
          ]
        }
      ]
    },
    {
      "cell_type": "code",
      "source": [
        "# Calcular los valores F y los valores p\n",
        "F_values, p_values = f_regression(X, y)\n",
        "\n",
        "# Imprimir los valores F y los valores p\n",
        "print(\"F-values:\", F_values)\n",
        "print(\"p-values:\", p_values)"
      ],
      "metadata": {
        "colab": {
          "base_uri": "https://localhost:8080/"
        },
        "id": "huvleairFvxt",
        "outputId": "ff093fa8-31b4-47ed-cf5f-fc7c6ec8dbae"
      },
      "execution_count": null,
      "outputs": [
        {
          "output_type": "stream",
          "name": "stdout",
          "text": [
            "F-values: [2.35031192e+01 5.59316149e+03 3.88643614e+02 1.57678977e+04\n",
            " 7.36736961e+04 4.32773890e-01 1.75801196e-01 1.41473266e-01\n",
            " 2.26956457e-01 4.46708803e-01 5.23873347e-01 1.07093749e+00]\n",
            "p-values: [1.25075759e-06 0.00000000e+00 3.41151400e-86 0.00000000e+00\n",
            " 0.00000000e+00 5.10633925e-01 6.75008494e-01 7.06822313e-01\n",
            " 6.33791841e-01 5.03905057e-01 4.69197384e-01 3.00738664e-01]\n"
          ]
        }
      ]
    },
    {
      "cell_type": "code",
      "source": [
        "# prompt: inicia lstas vacias \"past_test\" y \"not_pass_test\" y un alpla de 0.05, itera sobre los valores crea una secuencia de numeros desde el 0 hasta el numero de caracteristicas menos 1, dentro del bucle imprime los nombres de las caracteristicas x-columns(i) y su valor p correspondiente f_value[1][i], si el valor p de de una caracteristica es menor que alpha se agrega a pass_test y si no a notpasstest\n",
        "\n",
        "past_test = []\n",
        "not_pass_test = []\n",
        "alpha = 0.05\n",
        "for i in range(len(X.columns)):\n",
        "  print(f\"Característica: {X.columns[i]}, p-valor: {p_values[i]}\")\n",
        "  if p_values[i] < alpha:\n",
        "    past_test.append(X.columns[i])\n",
        "  else:\n",
        "    not_pass_test.append(X.columns[i])\n",
        "print(\"Caracteristicas pasadas:\", past_test)\n",
        "print(\"Caracteristicas no pasadas:\", not_pass_test)"
      ],
      "metadata": {
        "colab": {
          "base_uri": "https://localhost:8080/"
        },
        "id": "-ee-VZMVGgmG",
        "outputId": "6e14b4a2-1c2d-4be6-807c-f7bccea3e629"
      },
      "execution_count": null,
      "outputs": [
        {
          "output_type": "stream",
          "name": "stdout",
          "text": [
            "Característica: Postal Code, p-valor: 1.2507575908136578e-06\n",
            "Característica: Quantity, p-valor: 0.0\n",
            "Característica: Discount, p-valor: 3.411513996828431e-86\n",
            "Característica: Profit, p-valor: 0.0\n",
            "Característica: Shipping Cost, p-valor: 0.0\n",
            "Característica: Order Year, p-valor: 0.5106339246214627\n",
            "Característica: Order Month, p-valor: 0.6750084943740959\n",
            "Característica: Order Day, p-valor: 0.7068223133889494\n",
            "Característica: Ship Day, p-valor: 0.6337918405120424\n",
            "Característica: Ship Month, p-valor: 0.5039050572035039\n",
            "Característica: Ship Year, p-valor: 0.46919738429564983\n",
            "Característica: Delivery Time, p-valor: 0.30073866448674846\n",
            "Caracteristicas pasadas: ['Postal Code', 'Quantity', 'Discount', 'Profit', 'Shipping Cost']\n",
            "Caracteristicas no pasadas: ['Order Year', 'Order Month', 'Order Day', 'Ship Day', 'Ship Month', 'Ship Year', 'Delivery Time']\n"
          ]
        }
      ]
    },
    {
      "source": [
        "# Calcular los valores F y los valores p\n",
        "F_values, p_values = f_regression(X, y)\n",
        "\n",
        "# Imprimir los valores F y los valores p\n",
        "print(\"F-values:\", F_values)\n",
        "print(\"p-values:\", p_values)\n",
        "\n",
        "plt.figure(figsize=(10, 6))\n",
        "# Create DataFrame outside of plt.bar() and handle potential KeyError\n",
        "f_values_df = pd.DataFrame"
      ],
      "cell_type": "code",
      "metadata": {
        "colab": {
          "base_uri": "https://localhost:8080/",
          "height": 138
        },
        "id": "xxv85QE2Lteo",
        "outputId": "cb6cf983-39de-4bc7-c980-20b3b9cc5164"
      },
      "execution_count": null,
      "outputs": [
        {
          "output_type": "stream",
          "name": "stdout",
          "text": [
            "F-values: [2.35031192e+01 5.59316149e+03 3.88643614e+02 1.57678977e+04\n",
            " 7.36736961e+04 4.32773890e-01 1.75801196e-01 1.41473266e-01\n",
            " 2.26956457e-01 4.46708803e-01 5.23873347e-01 1.07093749e+00]\n",
            "p-values: [1.25075759e-06 0.00000000e+00 3.41151400e-86 0.00000000e+00\n",
            " 0.00000000e+00 5.10633925e-01 6.75008494e-01 7.06822313e-01\n",
            " 6.33791841e-01 5.03905057e-01 4.69197384e-01 3.00738664e-01]\n"
          ]
        },
        {
          "output_type": "display_data",
          "data": {
            "text/plain": [
              "<Figure size 1000x600 with 0 Axes>"
            ]
          },
          "metadata": {}
        }
      ]
    },
    {
      "cell_type": "code",
      "source": [
        "# Calcular los valores F y los valores p\n",
        "F_values, p_values = f_regression(X, y)\n",
        "\n",
        "# Imprimir los valores F y los valores p\n",
        "print(\"F-values:\", F_values)\n",
        "print(\"p-values:\", p_values)\n",
        "\n",
        "plt.figure(figsize=(10, 6))\n",
        "# Crear un DataFrame fuera de plt.bar() y manejar posibles errores de KeyError\n",
        "f_values_df = pd.DataFrame({'F_values': F_values}, index=X.columns)\n",
        "f_values_df = f_values_df.sort_values('F_values', ascending=False)  # Ordenar los valores de F de mayor a menor\n",
        "try:\n",
        "    f_values_to_plot = f_values_df.drop(not_pass_test)\n",
        "except KeyError:\n",
        "    print(\"Algunas columnas en 'not_pass_test' no se encontraron en el DataFrame.\")\n",
        "    f_values_to_plot = f_values_df  # Graficar todos los valores si ocurre un KeyError\n",
        "\n",
        "plt.bar(f_values_to_plot.index, f_values_to_plot['F_values'])\n",
        "plt.xlabel('Características')\n",
        "plt.ylabel('Valor F')\n",
        "plt.title('Valor F de las características')\n",
        "plt.xticks(rotation=90)\n",
        "plt.show()"
      ],
      "metadata": {
        "colab": {
          "base_uri": "https://localhost:8080/",
          "height": 750
        },
        "id": "0LkNHvfNM1CS",
        "outputId": "d6f992b2-b150-41aa-e456-2f3355c0ceef"
      },
      "execution_count": null,
      "outputs": [
        {
          "output_type": "stream",
          "name": "stdout",
          "text": [
            "F-values: [2.35031192e+01 5.59316149e+03 3.88643614e+02 1.57678977e+04\n",
            " 7.36736961e+04 4.32773890e-01 1.75801196e-01 1.41473266e-01\n",
            " 2.26956457e-01 4.46708803e-01 5.23873347e-01 1.07093749e+00]\n",
            "p-values: [1.25075759e-06 0.00000000e+00 3.41151400e-86 0.00000000e+00\n",
            " 0.00000000e+00 5.10633925e-01 6.75008494e-01 7.06822313e-01\n",
            " 6.33791841e-01 5.03905057e-01 4.69197384e-01 3.00738664e-01]\n"
          ]
        },
        {
          "output_type": "display_data",
          "data": {
            "text/plain": [
              "<Figure size 1000x600 with 1 Axes>"
            ],
            "image/png": "[encoded data removed]"
          },
          "metadata": {}
        }
      ]
    },
    {
      "cell_type": "code",
      "source": [
        "r_value = r_regression(X, y)\n",
        "r_value"
      ],
      "metadata": {
        "colab": {
          "base_uri": "https://localhost:8080/"
        },
        "id": "CIAwpKnENfoF",
        "outputId": "1289cacc-c707-4588-fb0c-15d6fee84a42"
      },
      "execution_count": null,
      "outputs": [
        {
          "output_type": "execute_result",
          "data": {
            "text/plain": [
              "array([-0.02140205,  0.31357718, -0.08672187,  0.48491811,  0.76783477,\n",
              "       -0.00290483,  0.00185141,  0.00166084,  0.0021036 ,  0.00295123,\n",
              "       -0.00319597, -0.00456951])"
            ]
          },
          "metadata": {},
          "execution_count": 8
        }
      ]
    },
    {
      "cell_type": "code",
      "source": [
        "# Aplicar el método de filtro SelectKBest con el estadístico de información mutua\n",
        "selector = SelectKBest(mutual_info_regression, k=3)\n",
        "selector.fit(X, y)\n",
        "\n",
        "# Obtener las variables seleccionadas\n",
        "selected_features = X.columns[selector.get_support()]\n",
        "\n",
        "# Imprimir las variables seleccionadas\n",
        "print(f\"Variables seleccionadas: {selected_features}\")\n"
      ],
      "metadata": {
        "colab": {
          "base_uri": "https://localhost:8080/"
        },
        "id": "o3l_bS15NyCk",
        "outputId": "8a221f69-dd85-4a9b-f357-da27c3b0fbab"
      },
      "execution_count": null,
      "outputs": [
        {
          "output_type": "stream",
          "name": "stdout",
          "text": [
            "Variables seleccionadas: Index(['Quantity', 'Profit', 'Shipping Cost'], dtype='object')\n"
          ]
        }
      ]
    },
    {
      "cell_type": "code",
      "source": [
        "# Aplicar PCA\n",
        "scaler = StandardScaler()\n",
        "X_scaled = scaler.fit_transform(X)\n",
        "pca = PCA()\n",
        "X_pca = pca.fit_transform(X_scaled)\n",
        "\n",
        "# Muestra los componentes principales del PCA como columnas\n",
        "print(pca.components_)\n",
        "\n",
        "# Calcular la varianza explicada por cada componente principal\n",
        "explained_variance_ratio = pca.explained_variance_ratio_\n",
        "\n",
        "# Graficar la varianza explicada por cada componente\n",
        "plt.figure(figsize=(10, 6))\n",
        "plt.plot(range(1, len(explained_variance_ratio) + 1), explained_variance_ratio, marker='o')\n",
        "\n",
        "plt.xlabel('Número de Componentes')\n",
        "plt.ylabel('Varianza Explicada')\n",
        "plt.title('Varianza Explicada por Componentes')\n",
        "plt.show()"
      ],
      "metadata": {
        "colab": {
          "base_uri": "https://localhost:8080/",
          "height": 1000
        },
        "id": "t5oL08hCRj5e",
        "outputId": "695a4be4-7b0d-4814-e219-fe8d10835bd7"
      },
      "execution_count": null,
      "outputs": [
        {
          "output_type": "stream",
          "name": "stdout",
          "text": [
            "[[ 4.59399705e-02  2.22676786e-02  7.26247320e-03  9.59172626e-04\n",
            "   1.27187024e-02 -6.61422119e-01  2.35762965e-01 -8.72596725e-03\n",
            "   2.12860193e-02  2.53516249e-01 -6.62807355e-01 -1.23727812e-03]\n",
            " [-4.99342983e-02 -4.09393748e-02  1.30625591e-02 -2.14090167e-02\n",
            "  -2.76911676e-02 -2.48391967e-01 -6.63169002e-01 -5.96103439e-03\n",
            "  -3.74897647e-02 -6.56655444e-01 -2.45566277e-01  1.69601653e-03]\n",
            " [-2.50806453e-02  3.63941780e-01 -3.92033306e-01  5.96144069e-01\n",
            "   5.81920569e-01 -3.39181948e-03 -3.55635046e-02  1.84773079e-03\n",
            "  -1.14379842e-02 -3.35493506e-02 -4.02600978e-03 -1.29056783e-01]\n",
            " [ 1.79201127e-03  3.00170662e-03  2.67985753e-03  2.88834151e-03\n",
            "   7.04720007e-03 -1.67266284e-03 -2.27499176e-02  7.07866076e-01\n",
            "   7.05523271e-01 -2.31624938e-02 -1.55944777e-03  5.08282967e-03]\n",
            " [ 3.86502200e-01  4.91708873e-01  5.71656738e-01 -2.68478323e-01\n",
            "   2.87176727e-01  1.63073949e-02 -3.15578114e-02  3.98994937e-04\n",
            "  -6.88212743e-03 -3.25322078e-02  1.51859610e-02 -3.53408571e-01]\n",
            " [ 5.30767367e-01  3.18458474e-01 -5.95655885e-02  7.96416866e-02\n",
            "  -1.31616960e-01  7.31862637e-03 -2.78897364e-02 -1.07685884e-02\n",
            "   1.76906084e-03 -3.56804485e-02  1.23208798e-02  7.66342567e-01]\n",
            " [ 7.38985624e-01 -3.69941013e-01 -3.11445351e-01  1.15154582e-01\n",
            "  -1.61024701e-01  9.51931890e-03 -2.18665148e-02  4.60983881e-04\n",
            "   3.22221852e-03 -2.19585036e-02  7.66812185e-03 -4.23952619e-01]\n",
            " [ 1.04358543e-01 -5.68827398e-01  5.50111783e-01  3.86917332e-01\n",
            "   3.87767062e-01  4.46729485e-03  1.21090446e-03 -6.98640668e-02\n",
            "   6.31993479e-02  3.48022046e-03  1.97115286e-03  2.32251652e-01]\n",
            " [ 1.93723701e-02 -6.58231454e-02  3.81891460e-02  8.87504269e-03\n",
            "   5.34790048e-02 -3.08357830e-02  4.80794886e-02  7.01205579e-01\n",
            "  -7.03026354e-01 -7.32901331e-03  1.37786477e-02  3.81244895e-02]\n",
            " [ 7.93018195e-02 -2.39620733e-01 -3.38607983e-01 -6.34566957e-01\n",
            "   6.17608847e-01  2.58927310e-03 -4.87297897e-03 -2.90165791e-02\n",
            "   2.61185796e-02 -3.80082158e-04  1.07331803e-03  1.89646934e-01]\n",
            " [-3.37073654e-03 -5.73399285e-04 -2.21096609e-03 -1.28210641e-03\n",
            "   1.94552354e-03 -1.79925463e-01  6.84902133e-01 -3.25763497e-02\n",
            "   3.22371983e-02 -6.85628925e-01  1.62159230e-01 -5.54924053e-03]\n",
            " [ 3.31133406e-06  1.87262498e-07 -6.51615828e-07 -1.96461847e-07\n",
            "  -5.99369255e-07 -6.83408458e-01 -1.70765100e-01 -1.48580655e-02\n",
            "   1.50001506e-02  1.72929089e-01  6.88064860e-01 -2.94491702e-03]]\n"
          ]
        },
        {
          "output_type": "display_data",
          "data": {
            "text/plain": [
              "<Figure size 1000x600 with 1 Axes>"
            ],
            "image/png": "[encoded data removed]"
          },
          "metadata": {}
        }
      ]
    },
    {
      "source": [
        "# Separar la variable objetivo y las variables predictoras\n",
        "X = data.drop('Sales', axis=1).select_dtypes(include=['int64', 'float64'])\n",
        "y = data['Sales']\n",
        "\n",
        "# Asegurarse de que todas las variables en X sean no negativas\n",
        "X = X.abs()  # Tomar el valor absoluto de todas las variables en X\n",
        "\n",
        "# Use f_regression for continuous target variables\n",
        "test = SelectKBest(score_func=f_regression, k=4)  # Change score_func to f_regression\n",
        "fit = test.fit(X, y)\n",
        "\n",
        "# Obtener los índices ordenados de las características más importantes a las menos importantes\n",
        "indices = np.argsort(fit.scores_)[::-1]\n",
        "\n",
        "features = []\n",
        "for i in range(4):\n",
        "    features.append(X.columns[indices[i]])\n",
        "\n",
        "# Imprimir el ranking de características\n",
        "print(\"Características seleccionadas: \", features)"
      ],
      "cell_type": "code",
      "metadata": {
        "colab": {
          "base_uri": "https://localhost:8080/"
        },
        "id": "IG8ugd4P99Yn",
        "outputId": "49005db4-7a3c-46dc-a272-c8135f4f47b8"
      },
      "execution_count": null,
      "outputs": [
        {
          "output_type": "stream",
          "name": "stdout",
          "text": [
            "Características seleccionadas:  ['Shipping Cost', 'Profit', 'Quantity', 'Discount']\n"
          ]
        }
      ]
    },
    {
      "cell_type": "code",
      "source": [
        "# Plot the scores\n",
        "plt.figure(figsize=(20, 4))\n",
        "plt.bar(X.columns[indices], fit.scores_[indices], color='b', align='center')\n",
        "plt.xticks(rotation=90)\n",
        "plt.title('Importancia de las Características')\n",
        "plt.show()"
      ],
      "metadata": {
        "colab": {
          "base_uri": "https://localhost:8080/",
          "height": 394
        },
        "id": "4ZX0Xzn4-aK7",
        "outputId": "75c4a66e-fb03-44f7-d41d-800004599fe1"
      },
      "execution_count": null,
      "outputs": [
        {
          "output_type": "display_data",
          "data": {
            "text/plain": [
              "<Figure size 2000x400 with 1 Axes>"
            ],
            "image/png": "[encoded data removed]"
          },
          "metadata": {}
        }
      ]
    },
    {
      "source": [
        "# Separar la variable objetivo y las variables predictoras\n",
        "X = data.drop('Sales', axis=1).select_dtypes(include=['int64', 'float64'])\n",
        "y = data['Sales']\n",
        "\n",
        "# Asegurarse de que todas las variables en X sean no negativas\n",
        "X = X.abs()  # Tomar el valor absoluto de todas las variables en X\n",
        "\n",
        "# Use a regression model for continuous target variables, for example LinearRegression\n",
        "from sklearn.linear_model import LinearRegression # Import LinearRegression\n",
        "model = LinearRegression() # Use LinearRegression instead of LogisticRegression\n",
        "rfe = RFE(estimator=model, n_features_to_select=3)\n",
        "fit = rfe.fit(X, y)\n",
        "print(\"Número de características: \", fit.n_features_)\n",
        "print(\"Características seleccionadas: \", fit.support_)\n",
        "print(\"Ranking de características: \", fit.ranking_)\n",
        "print(\"Características seleccionadas: \", X.columns[fit.support_])"
      ],
      "cell_type": "code",
      "metadata": {
        "colab": {
          "base_uri": "https://localhost:8080/"
        },
        "id": "ofYNSfIO_HPW",
        "outputId": "0476f147-996a-4832-e21b-30c02d10a5aa"
      },
      "execution_count": null,
      "outputs": [
        {
          "output_type": "stream",
          "name": "stdout",
          "text": [
            "Número de características:  3\n",
            "Características seleccionadas:  [False  True  True False False False False False False False  True False]\n",
            "Ranking de características:  [10  1  1  7  6  2  4  8  9  3  1  5]\n",
            "Características seleccionadas:  Index(['Quantity', 'Discount', 'Ship Year'], dtype='object')\n"
          ]
        }
      ]
    },
    {
      "cell_type": "code",
      "source": [
        "# Calcular los valores de información mutua\n",
        "mutual_info = mutual_info_regression(X, y)\n",
        "\n",
        "# Obtener los índices ordenados de las características más importantes a las menos importantes\n",
        "indices = np.argsort(mutual_info)[::-1]\n",
        "\n",
        "# Imprimir el ranking de características\n",
        "print(\"Ranking de características:\")\n",
        "for i in range(X.shape[1]):\n",
        "    print(f\"{i+1}. característica {X.columns[indices[i]]} (Ganancia de Información: {mutual_info[indices[i]]})\")"
      ],
      "metadata": {
        "colab": {
          "base_uri": "https://localhost:8080/"
        },
        "id": "dpBrKAhX-kOZ",
        "outputId": "d99540d2-10bf-4d65-8feb-e379eab56af7"
      },
      "execution_count": null,
      "outputs": [
        {
          "output_type": "stream",
          "name": "stdout",
          "text": [
            "Ranking de características:\n",
            "1. característica Profit (Ganancia de Información: 1.6933822070438538)\n",
            "2. característica Shipping Cost (Ganancia de Información: 0.9090907287478327)\n",
            "3. característica Quantity (Ganancia de Información: 0.4240995149253406)\n",
            "4. característica Discount (Ganancia de Información: 0.30642641023724115)\n",
            "5. característica Postal Code (Ganancia de Información: 0.07077370252028636)\n",
            "6. característica Order Month (Ganancia de Información: 0.00253919563385141)\n",
            "7. característica Order Day (Ganancia de Información: 0.0023841623374130094)\n",
            "8. característica Ship Month (Ganancia de Información: 0.0010043746693888522)\n",
            "9. característica Delivery Time (Ganancia de Información: 0.0007195854016721626)\n",
            "10. característica Ship Year (Ganancia de Información: 0.0)\n",
            "11. característica Ship Day (Ganancia de Información: 0.0)\n",
            "12. característica Order Year (Ganancia de Información: 0.0)\n"
          ]
        }
      ]
    },
    {
      "cell_type": "code",
      "source": [
        "# prompt: recapitula las caracteristicas seleccionadas por los metodos de seleccion de caracteristicas realizados\n",
        "\n",
        "# Métodos de selección de características aplicados\n",
        "metodos = ['ANOVA de valor F', 'Valor F', 'Información mutua', 'RFE']\n",
        "\n",
        "# Características seleccionadas por cada método\n",
        "caracteristicas = {\n",
        "    'ANOVA de valor F': past_test,\n",
        "    'Valor F': features,\n",
        "    'Información mutua': X.columns[indices],\n",
        "    'RFE': X.columns[fit.support_]\n",
        "}\n",
        "\n",
        "# Imprimir resumen\n",
        "print(\"Resumen de características seleccionadas:\")\n",
        "for metodo, caracteristicas_seleccionadas in caracteristicas.items():\n",
        "    print(f\"\\nMétodo: {metodo}\")\n",
        "    print(f\"Características seleccionadas: {caracteristicas_seleccionadas}\")\n",
        "    print(f\"Número de características seleccionadas: {len(caracteristicas_seleccionadas)}\")\n",
        "    print(f\"Características no seleccionadas: {set(X.columns) - set(caracteristicas_seleccionadas)}\")\n",
        "    print(\"-\" * 50)"
      ],
      "metadata": {
        "colab": {
          "base_uri": "https://localhost:8080/"
        },
        "id": "4UFj-WLzDDGi",
        "outputId": "e5b38922-32b3-4fdc-89f7-58392f6db8c9"
      },
      "execution_count": null,
      "outputs": [
        {
          "output_type": "stream",
          "name": "stdout",
          "text": [
            "Resumen de características seleccionadas:\n",
            "\n",
            "Método: ANOVA de valor F\n",
            "Características seleccionadas: ['Postal Code', 'Quantity', 'Discount', 'Profit', 'Shipping Cost']\n",
            "Número de características seleccionadas: 5\n",
            "Características no seleccionadas: {'Ship Day', 'Order Year', 'Order Day', 'Order Month', 'Ship Year', 'Ship Month', 'Delivery Time'}\n",
            "--------------------------------------------------\n",
            "\n",
            "Método: Valor F\n",
            "Características seleccionadas: ['Shipping Cost', 'Profit', 'Quantity', 'Discount']\n",
            "Número de características seleccionadas: 4\n",
            "Características no seleccionadas: {'Ship Day', 'Postal Code', 'Order Year', 'Order Day', 'Order Month', 'Ship Year', 'Ship Month', 'Delivery Time'}\n",
            "--------------------------------------------------\n",
            "\n",
            "Método: Información mutua\n",
            "Características seleccionadas: Index(['Profit', 'Shipping Cost', 'Quantity', 'Discount', 'Postal Code',\n",
            "       'Order Month', 'Order Day', 'Ship Month', 'Delivery Time', 'Ship Year',\n",
            "       'Ship Day', 'Order Year'],\n",
            "      dtype='object')\n",
            "Número de características seleccionadas: 12\n",
            "Características no seleccionadas: set()\n",
            "--------------------------------------------------\n",
            "\n",
            "Método: RFE\n",
            "Características seleccionadas: Index(['Quantity', 'Discount', 'Ship Year'], dtype='object')\n",
            "Número de características seleccionadas: 3\n",
            "Características no seleccionadas: {'Profit', 'Shipping Cost', 'Ship Day', 'Postal Code', 'Order Year', 'Order Day', 'Order Month', 'Ship Month', 'Delivery Time'}\n",
            "--------------------------------------------------\n"
          ]
        }
      ]
    },
    {
      "cell_type": "markdown",
      "source": [
        "‘Profit’, ‘Shipping Cost’, ‘Quantity’, ‘Discount’: Estas características fueron seleccionadas por la mayoría de los métodos. Esto sugiere que estas características tienen una fuerte relación con ‘Sales’. Por ejemplo, ‘Profit’ y ‘Shipping Cost’ pueden estar directamente relacionados con ‘Sales’, ya que las ventas más altas pueden generar más ganancias y costos de envío. ‘Quantity’ y ‘Discount’ también pueden influir en ‘Sales’, ya que los clientes pueden comprar más productos si se ofrecen descuentos.\n",
        "\n",
        "‘Postal Code’: Esta característica fue seleccionada por el método ANOVA de valor F y el método de Información Mutua. Esto podría sugerir que diferentes códigos postales pueden tener diferentes niveles de ventas, posiblemente debido a factores demográficos o económicos.\n",
        "\n",
        "‘Order Month’, ‘Order Day’, ‘Ship Month’, ‘Delivery Time’, ‘Ship Year’, ‘Ship Day’, ‘Order Year’: Estas características fueron seleccionadas solo por el método de Información Mutua. Esto podría sugerir que estas características tienen alguna relación con ‘Sales’, pero esta relación puede no ser tan fuerte o directa como las otras características.\n",
        "\n",
        "Las características que no fueron seleccionadas por los métodos pueden no tener una relación fuerte o clara con ‘Sales’, o su relación con ‘Sales’ puede ser menos importante que la de las características seleccionadas. Sin embargo, esto no significa necesariamente que estas características sean irrelevantes. En algunos casos, estas características pueden proporcionar información útil cuando se combinan con otras características, o pueden ser útiles para ciertos tipos de modelos de aprendizaje automático."
      ],
      "metadata": {
        "id": "DzxQG6x-EZu4"
      }
    },
    {
      "cell_type": "code",
      "source": [],
      "metadata": {
        "id": "kp0lcSB5Di7r"
      },
      "execution_count": null,
      "outputs": []
    }
  ]
}